{
  "nbformat": 4,
  "nbformat_minor": 0,
  "metadata": {
    "colab": {
      "name": "Power Plant Energy Output Prediction.ipynb",
      "provenance": []
    },
    "kernelspec": {
      "name": "python3",
      "display_name": "Python 3"
    },
    "language_info": {
      "name": "python"
    }
  },
  "cells": [
    {
      "cell_type": "markdown",
      "metadata": {
        "id": "oPYp_vlFkh_t"
      },
      "source": [
        "#Power Plant Energy Output Prediction : Weekend Hackathon #13"
      ]
    },
    {
      "cell_type": "code",
      "metadata": {
        "id": "RplA21VZQ13n",
        "colab": {
          "base_uri": "https://localhost:8080/"
        },
        "outputId": "b7659d27-4ec4-4c3c-98ba-2c466561b47c"
      },
      "source": [
        "import pandas as pd\n",
        "import numpy as np\n",
        "from lazypredict.Supervised import LazyClassifier, LazyRegressor\n",
        "from sklearn.model_selection import train_test_split\n",
        "import seaborn as sns\n",
        "import matplotlib.pyplot as plt\n",
        "from xgboost import XGBRegressor"
      ],
      "execution_count": 1,
      "outputs": [
        {
          "output_type": "stream",
          "text": [
            "/usr/local/lib/python3.7/dist-packages/sklearn/utils/deprecation.py:143: FutureWarning: The sklearn.utils.testing module is  deprecated in version 0.22 and will be removed in version 0.24. The corresponding classes / functions should instead be imported from sklearn.utils. Anything that cannot be imported from sklearn.utils is now part of the private API.\n",
            "  warnings.warn(message, FutureWarning)\n"
          ],
          "name": "stderr"
        }
      ]
    },
    {
      "cell_type": "code",
      "metadata": {
        "id": "T7nduHmkaXOL"
      },
      "source": [
        "data0=pd.read_csv('/content/Train.csv')"
      ],
      "execution_count": 2,
      "outputs": []
    },
    {
      "cell_type": "code",
      "metadata": {
        "colab": {
          "base_uri": "https://localhost:8080/",
          "height": 406
        },
        "id": "s7EU6Qu4dtVD",
        "outputId": "bb0848a1-70d1-4a58-dee9-46effd4b5c66"
      },
      "source": [
        "data0"
      ],
      "execution_count": 3,
      "outputs": [
        {
          "output_type": "execute_result",
          "data": {
            "text/html": [
              "<div>\n",
              "<style scoped>\n",
              "    .dataframe tbody tr th:only-of-type {\n",
              "        vertical-align: middle;\n",
              "    }\n",
              "\n",
              "    .dataframe tbody tr th {\n",
              "        vertical-align: top;\n",
              "    }\n",
              "\n",
              "    .dataframe thead th {\n",
              "        text-align: right;\n",
              "    }\n",
              "</style>\n",
              "<table border=\"1\" class=\"dataframe\">\n",
              "  <thead>\n",
              "    <tr style=\"text-align: right;\">\n",
              "      <th></th>\n",
              "      <th>AT</th>\n",
              "      <th>V</th>\n",
              "      <th>AP</th>\n",
              "      <th>RH</th>\n",
              "      <th>PE</th>\n",
              "    </tr>\n",
              "  </thead>\n",
              "  <tbody>\n",
              "    <tr>\n",
              "      <th>0</th>\n",
              "      <td>29.07</td>\n",
              "      <td>72.51</td>\n",
              "      <td>1009.24</td>\n",
              "      <td>58.38</td>\n",
              "      <td>449.37</td>\n",
              "    </tr>\n",
              "    <tr>\n",
              "      <th>1</th>\n",
              "      <td>32.38</td>\n",
              "      <td>67.17</td>\n",
              "      <td>1006.97</td>\n",
              "      <td>60.04</td>\n",
              "      <td>450.86</td>\n",
              "    </tr>\n",
              "    <tr>\n",
              "      <th>2</th>\n",
              "      <td>19.29</td>\n",
              "      <td>67.71</td>\n",
              "      <td>1007.94</td>\n",
              "      <td>63.71</td>\n",
              "      <td>460.89</td>\n",
              "    </tr>\n",
              "    <tr>\n",
              "      <th>3</th>\n",
              "      <td>16.45</td>\n",
              "      <td>41.48</td>\n",
              "      <td>1016.64</td>\n",
              "      <td>45.21</td>\n",
              "      <td>467.58</td>\n",
              "    </tr>\n",
              "    <tr>\n",
              "      <th>4</th>\n",
              "      <td>21.43</td>\n",
              "      <td>46.97</td>\n",
              "      <td>1013.94</td>\n",
              "      <td>61.25</td>\n",
              "      <td>469.81</td>\n",
              "    </tr>\n",
              "    <tr>\n",
              "      <th>...</th>\n",
              "      <td>...</td>\n",
              "      <td>...</td>\n",
              "      <td>...</td>\n",
              "      <td>...</td>\n",
              "      <td>...</td>\n",
              "    </tr>\n",
              "    <tr>\n",
              "      <th>9563</th>\n",
              "      <td>4.44</td>\n",
              "      <td>38.44</td>\n",
              "      <td>1016.14</td>\n",
              "      <td>75.35</td>\n",
              "      <td>499.62</td>\n",
              "    </tr>\n",
              "    <tr>\n",
              "      <th>9564</th>\n",
              "      <td>18.18</td>\n",
              "      <td>67.71</td>\n",
              "      <td>1004.50</td>\n",
              "      <td>87.26</td>\n",
              "      <td>461.13</td>\n",
              "    </tr>\n",
              "    <tr>\n",
              "      <th>9565</th>\n",
              "      <td>10.96</td>\n",
              "      <td>45.01</td>\n",
              "      <td>1017.97</td>\n",
              "      <td>95.82</td>\n",
              "      <td>481.25</td>\n",
              "    </tr>\n",
              "    <tr>\n",
              "      <th>9566</th>\n",
              "      <td>8.70</td>\n",
              "      <td>36.24</td>\n",
              "      <td>1013.34</td>\n",
              "      <td>89.50</td>\n",
              "      <td>490.93</td>\n",
              "    </tr>\n",
              "    <tr>\n",
              "      <th>9567</th>\n",
              "      <td>27.97</td>\n",
              "      <td>58.84</td>\n",
              "      <td>1002.25</td>\n",
              "      <td>57.88</td>\n",
              "      <td>457.63</td>\n",
              "    </tr>\n",
              "  </tbody>\n",
              "</table>\n",
              "<p>9568 rows × 5 columns</p>\n",
              "</div>"
            ],
            "text/plain": [
              "        AT     V      AP    RH     PE\n",
              "0    29.07 72.51 1009.24 58.38 449.37\n",
              "1    32.38 67.17 1006.97 60.04 450.86\n",
              "2    19.29 67.71 1007.94 63.71 460.89\n",
              "3    16.45 41.48 1016.64 45.21 467.58\n",
              "4    21.43 46.97 1013.94 61.25 469.81\n",
              "...    ...   ...     ...   ...    ...\n",
              "9563  4.44 38.44 1016.14 75.35 499.62\n",
              "9564 18.18 67.71 1004.50 87.26 461.13\n",
              "9565 10.96 45.01 1017.97 95.82 481.25\n",
              "9566  8.70 36.24 1013.34 89.50 490.93\n",
              "9567 27.97 58.84 1002.25 57.88 457.63\n",
              "\n",
              "[9568 rows x 5 columns]"
            ]
          },
          "metadata": {
            "tags": []
          },
          "execution_count": 3
        }
      ]
    },
    {
      "cell_type": "markdown",
      "metadata": {
        "id": "7MpdfYyTj3Ei"
      },
      "source": [
        "**Checking Outliers**"
      ]
    },
    {
      "cell_type": "code",
      "metadata": {
        "colab": {
          "base_uri": "https://localhost:8080/",
          "height": 1000
        },
        "id": "UjiX6KkKfFwi",
        "outputId": "c0fca81e-3959-4f5d-c626-267207b1f7fd"
      },
      "source": [
        "for i in data0:\n",
        "  sns.boxplot(data0[i])\n",
        "  plt.show()"
      ],
      "execution_count": 4,
      "outputs": [
        {
          "output_type": "display_data",
          "data": {
            "image/png": "[encoded data removed]",
            "text/plain": [
              "<Figure size 432x288 with 1 Axes>"
            ]
          },
          "metadata": {
            "tags": [],
            "needs_background": "light"
          }
        },
        {
          "output_type": "display_data",
          "data": {
            "image/png": "[encoded data removed]",
            "text/plain": [
              "<Figure size 432x288 with 1 Axes>"
            ]
          },
          "metadata": {
            "tags": [],
            "needs_background": "light"
          }
        },
        {
          "output_type": "display_data",
          "data": {
            "image/png": "[encoded data removed]",
            "text/plain": [
              "<Figure size 432x288 with 1 Axes>"
            ]
          },
          "metadata": {
            "tags": [],
            "needs_background": "light"
          }
        },
        {
          "output_type": "display_data",
          "data": {
            "image/png": "[encoded data removed]",
            "text/plain": [
              "<Figure size 432x288 with 1 Axes>"
            ]
          },
          "metadata": {
            "tags": [],
            "needs_background": "light"
          }
        },
        {
          "output_type": "display_data",
          "data": {
            "image/png": "[encoded data removed]",
            "text/plain": [
              "<Figure size 432x288 with 1 Axes>"
            ]
          },
          "metadata": {
            "tags": [],
            "needs_background": "light"
          }
        }
      ]
    },
    {
      "cell_type": "markdown",
      "metadata": {
        "id": "uXqaJC0rj_hp"
      },
      "source": [
        "**Removing Outliers**"
      ]
    },
    {
      "cell_type": "code",
      "metadata": {
        "id": "EKxcRxdee0cT"
      },
      "source": [
        "from scipy.stats import zscore"
      ],
      "execution_count": 5,
      "outputs": []
    },
    {
      "cell_type": "code",
      "metadata": {
        "id": "ewHbMZGWeuF5"
      },
      "source": [
        "z=np.abs(zscore(data0))\n",
        "df_new=data0[(z<3).all(axis=1) & (z>-3).all(axis=1)]"
      ],
      "execution_count": 6,
      "outputs": []
    },
    {
      "cell_type": "code",
      "metadata": {
        "colab": {
          "base_uri": "https://localhost:8080/"
        },
        "id": "gKenKHhcducX",
        "outputId": "cb674c28-7712-4f7a-bc5a-027885f9f031"
      },
      "source": [
        "data0.isna().sum()"
      ],
      "execution_count": 7,
      "outputs": [
        {
          "output_type": "execute_result",
          "data": {
            "text/plain": [
              "AT    0\n",
              "V     0\n",
              "AP    0\n",
              "RH    0\n",
              "PE    0\n",
              "dtype: int64"
            ]
          },
          "metadata": {
            "tags": []
          },
          "execution_count": 7
        }
      ]
    },
    {
      "cell_type": "code",
      "metadata": {
        "colab": {
          "base_uri": "https://localhost:8080/",
          "height": 1000
        },
        "id": "At7-eoc1dzTE",
        "outputId": "195437cf-5ca9-4b42-c0cd-0e85f3fea2b1"
      },
      "source": [
        "for i in df_new:\n",
        "  sns.displot(df_new[i])\n",
        "  plt.plot()"
      ],
      "execution_count": 8,
      "outputs": [
        {
          "output_type": "display_data",
          "data": {
            "image/png": "[encoded data removed]",
            "text/plain": [
              "<Figure size 360x360 with 1 Axes>"
            ]
          },
          "metadata": {
            "tags": [],
            "needs_background": "light"
          }
        },
        {
          "output_type": "display_data",
          "data": {
            "image/png": "[encoded data removed]",
            "text/plain": [
              "<Figure size 360x360 with 1 Axes>"
            ]
          },
          "metadata": {
            "tags": [],
            "needs_background": "light"
          }
        },
        {
          "output_type": "display_data",
          "data": {
            "image/png": "[encoded data removed]",
            "text/plain": [
              "<Figure size 360x360 with 1 Axes>"
            ]
          },
          "metadata": {
            "tags": [],
            "needs_background": "light"
          }
        },
        {
          "output_type": "display_data",
          "data": {
            "image/png": "[encoded data removed]",
            "text/plain": [
              "<Figure size 360x360 with 1 Axes>"
            ]
          },
          "metadata": {
            "tags": [],
            "needs_background": "light"
          }
        },
        {
          "output_type": "display_data",
          "data": {
            "image/png": "[encoded data removed]",
            "text/plain": [
              "<Figure size 360x360 with 1 Axes>"
            ]
          },
          "metadata": {
            "tags": [],
            "needs_background": "light"
          }
        }
      ]
    },
    {
      "cell_type": "code",
      "metadata": {
        "colab": {
          "base_uri": "https://localhost:8080/",
          "height": 406
        },
        "id": "CUi9m_ZWhnpI",
        "outputId": "adb0d690-8dd5-478d-a3de-595e4ab83b1a"
      },
      "source": [
        "df_new"
      ],
      "execution_count": 9,
      "outputs": [
        {
          "output_type": "execute_result",
          "data": {
            "text/html": [
              "<div>\n",
              "<style scoped>\n",
              "    .dataframe tbody tr th:only-of-type {\n",
              "        vertical-align: middle;\n",
              "    }\n",
              "\n",
              "    .dataframe tbody tr th {\n",
              "        vertical-align: top;\n",
              "    }\n",
              "\n",
              "    .dataframe thead th {\n",
              "        text-align: right;\n",
              "    }\n",
              "</style>\n",
              "<table border=\"1\" class=\"dataframe\">\n",
              "  <thead>\n",
              "    <tr style=\"text-align: right;\">\n",
              "      <th></th>\n",
              "      <th>AT</th>\n",
              "      <th>V</th>\n",
              "      <th>AP</th>\n",
              "      <th>RH</th>\n",
              "      <th>PE</th>\n",
              "    </tr>\n",
              "  </thead>\n",
              "  <tbody>\n",
              "    <tr>\n",
              "      <th>0</th>\n",
              "      <td>29.07</td>\n",
              "      <td>72.51</td>\n",
              "      <td>1009.24</td>\n",
              "      <td>58.38</td>\n",
              "      <td>449.37</td>\n",
              "    </tr>\n",
              "    <tr>\n",
              "      <th>1</th>\n",
              "      <td>32.38</td>\n",
              "      <td>67.17</td>\n",
              "      <td>1006.97</td>\n",
              "      <td>60.04</td>\n",
              "      <td>450.86</td>\n",
              "    </tr>\n",
              "    <tr>\n",
              "      <th>2</th>\n",
              "      <td>19.29</td>\n",
              "      <td>67.71</td>\n",
              "      <td>1007.94</td>\n",
              "      <td>63.71</td>\n",
              "      <td>460.89</td>\n",
              "    </tr>\n",
              "    <tr>\n",
              "      <th>3</th>\n",
              "      <td>16.45</td>\n",
              "      <td>41.48</td>\n",
              "      <td>1016.64</td>\n",
              "      <td>45.21</td>\n",
              "      <td>467.58</td>\n",
              "    </tr>\n",
              "    <tr>\n",
              "      <th>4</th>\n",
              "      <td>21.43</td>\n",
              "      <td>46.97</td>\n",
              "      <td>1013.94</td>\n",
              "      <td>61.25</td>\n",
              "      <td>469.81</td>\n",
              "    </tr>\n",
              "    <tr>\n",
              "      <th>...</th>\n",
              "      <td>...</td>\n",
              "      <td>...</td>\n",
              "      <td>...</td>\n",
              "      <td>...</td>\n",
              "      <td>...</td>\n",
              "    </tr>\n",
              "    <tr>\n",
              "      <th>9563</th>\n",
              "      <td>4.44</td>\n",
              "      <td>38.44</td>\n",
              "      <td>1016.14</td>\n",
              "      <td>75.35</td>\n",
              "      <td>499.62</td>\n",
              "    </tr>\n",
              "    <tr>\n",
              "      <th>9564</th>\n",
              "      <td>18.18</td>\n",
              "      <td>67.71</td>\n",
              "      <td>1004.50</td>\n",
              "      <td>87.26</td>\n",
              "      <td>461.13</td>\n",
              "    </tr>\n",
              "    <tr>\n",
              "      <th>9565</th>\n",
              "      <td>10.96</td>\n",
              "      <td>45.01</td>\n",
              "      <td>1017.97</td>\n",
              "      <td>95.82</td>\n",
              "      <td>481.25</td>\n",
              "    </tr>\n",
              "    <tr>\n",
              "      <th>9566</th>\n",
              "      <td>8.70</td>\n",
              "      <td>36.24</td>\n",
              "      <td>1013.34</td>\n",
              "      <td>89.50</td>\n",
              "      <td>490.93</td>\n",
              "    </tr>\n",
              "    <tr>\n",
              "      <th>9567</th>\n",
              "      <td>27.97</td>\n",
              "      <td>58.84</td>\n",
              "      <td>1002.25</td>\n",
              "      <td>57.88</td>\n",
              "      <td>457.63</td>\n",
              "    </tr>\n",
              "  </tbody>\n",
              "</table>\n",
              "<p>9530 rows × 5 columns</p>\n",
              "</div>"
            ],
            "text/plain": [
              "        AT     V      AP    RH     PE\n",
              "0    29.07 72.51 1009.24 58.38 449.37\n",
              "1    32.38 67.17 1006.97 60.04 450.86\n",
              "2    19.29 67.71 1007.94 63.71 460.89\n",
              "3    16.45 41.48 1016.64 45.21 467.58\n",
              "4    21.43 46.97 1013.94 61.25 469.81\n",
              "...    ...   ...     ...   ...    ...\n",
              "9563  4.44 38.44 1016.14 75.35 499.62\n",
              "9564 18.18 67.71 1004.50 87.26 461.13\n",
              "9565 10.96 45.01 1017.97 95.82 481.25\n",
              "9566  8.70 36.24 1013.34 89.50 490.93\n",
              "9567 27.97 58.84 1002.25 57.88 457.63\n",
              "\n",
              "[9530 rows x 5 columns]"
            ]
          },
          "metadata": {
            "tags": []
          },
          "execution_count": 9
        }
      ]
    },
    {
      "cell_type": "code",
      "metadata": {
        "id": "9t-gTmsdd68k"
      },
      "source": [
        "#data1=np.log(df_new)"
      ],
      "execution_count": 10,
      "outputs": []
    },
    {
      "cell_type": "code",
      "metadata": {
        "id": "fACguYBrfoKh"
      },
      "source": [
        "x=df_new.drop('PE',axis=1)\n",
        "Y=df_new['PE']"
      ],
      "execution_count": 11,
      "outputs": []
    },
    {
      "cell_type": "code",
      "metadata": {
        "id": "ftWsg1MpfeLY"
      },
      "source": [
        "x_train,x_test,Y_train,Y_test=train_test_split(x,Y,test_size=0.3,random_state=1)"
      ],
      "execution_count": 12,
      "outputs": []
    },
    {
      "cell_type": "code",
      "metadata": {
        "colab": {
          "base_uri": "https://localhost:8080/"
        },
        "id": "NzNFNAVUf1wq",
        "outputId": "0d5e7601-4c8d-480a-9f06-836590ada6b4"
      },
      "source": [
        "lazy= LazyRegressor(predictions=True)\n",
        "models, predictions = lazy.fit(x_train, x_test, Y_train, Y_test)"
      ],
      "execution_count": 13,
      "outputs": [
        {
          "output_type": "stream",
          "text": [
            "100%|██████████| 42/42 [00:33<00:00,  1.26it/s]\n"
          ],
          "name": "stderr"
        }
      ]
    },
    {
      "cell_type": "code",
      "metadata": {
        "colab": {
          "base_uri": "https://localhost:8080/",
          "height": 1000
        },
        "id": "VX8nypKIgJWQ",
        "outputId": "401d62ef-a52c-4af0-e5c5-e319cfc56f28"
      },
      "source": [
        "models"
      ],
      "execution_count": 14,
      "outputs": [
        {
          "output_type": "execute_result",
          "data": {
            "text/html": [
              "<div>\n",
              "<style scoped>\n",
              "    .dataframe tbody tr th:only-of-type {\n",
              "        vertical-align: middle;\n",
              "    }\n",
              "\n",
              "    .dataframe tbody tr th {\n",
              "        vertical-align: top;\n",
              "    }\n",
              "\n",
              "    .dataframe thead th {\n",
              "        text-align: right;\n",
              "    }\n",
              "</style>\n",
              "<table border=\"1\" class=\"dataframe\">\n",
              "  <thead>\n",
              "    <tr style=\"text-align: right;\">\n",
              "      <th></th>\n",
              "      <th>Adjusted R-Squared</th>\n",
              "      <th>R-Squared</th>\n",
              "      <th>RMSE</th>\n",
              "      <th>Time Taken</th>\n",
              "    </tr>\n",
              "    <tr>\n",
              "      <th>Model</th>\n",
              "      <th></th>\n",
              "      <th></th>\n",
              "      <th></th>\n",
              "      <th></th>\n",
              "    </tr>\n",
              "  </thead>\n",
              "  <tbody>\n",
              "    <tr>\n",
              "      <th>ExtraTreesRegressor</th>\n",
              "      <td>0.97</td>\n",
              "      <td>0.97</td>\n",
              "      <td>2.78</td>\n",
              "      <td>1.11</td>\n",
              "    </tr>\n",
              "    <tr>\n",
              "      <th>RandomForestRegressor</th>\n",
              "      <td>0.97</td>\n",
              "      <td>0.97</td>\n",
              "      <td>2.92</td>\n",
              "      <td>2.30</td>\n",
              "    </tr>\n",
              "    <tr>\n",
              "      <th>XGBRegressor</th>\n",
              "      <td>0.97</td>\n",
              "      <td>0.97</td>\n",
              "      <td>2.97</td>\n",
              "      <td>0.46</td>\n",
              "    </tr>\n",
              "    <tr>\n",
              "      <th>BaggingRegressor</th>\n",
              "      <td>0.97</td>\n",
              "      <td>0.97</td>\n",
              "      <td>3.13</td>\n",
              "      <td>0.24</td>\n",
              "    </tr>\n",
              "    <tr>\n",
              "      <th>LGBMRegressor</th>\n",
              "      <td>0.96</td>\n",
              "      <td>0.96</td>\n",
              "      <td>3.32</td>\n",
              "      <td>0.14</td>\n",
              "    </tr>\n",
              "    <tr>\n",
              "      <th>HistGradientBoostingRegressor</th>\n",
              "      <td>0.96</td>\n",
              "      <td>0.96</td>\n",
              "      <td>3.33</td>\n",
              "      <td>0.45</td>\n",
              "    </tr>\n",
              "    <tr>\n",
              "      <th>DecisionTreeRegressor</th>\n",
              "      <td>0.96</td>\n",
              "      <td>0.96</td>\n",
              "      <td>3.60</td>\n",
              "      <td>0.07</td>\n",
              "    </tr>\n",
              "    <tr>\n",
              "      <th>KNeighborsRegressor</th>\n",
              "      <td>0.95</td>\n",
              "      <td>0.95</td>\n",
              "      <td>3.74</td>\n",
              "      <td>0.08</td>\n",
              "    </tr>\n",
              "    <tr>\n",
              "      <th>ExtraTreeRegressor</th>\n",
              "      <td>0.95</td>\n",
              "      <td>0.95</td>\n",
              "      <td>3.84</td>\n",
              "      <td>0.03</td>\n",
              "    </tr>\n",
              "    <tr>\n",
              "      <th>GradientBoostingRegressor</th>\n",
              "      <td>0.95</td>\n",
              "      <td>0.95</td>\n",
              "      <td>3.85</td>\n",
              "      <td>0.83</td>\n",
              "    </tr>\n",
              "    <tr>\n",
              "      <th>SVR</th>\n",
              "      <td>0.94</td>\n",
              "      <td>0.94</td>\n",
              "      <td>4.23</td>\n",
              "      <td>3.34</td>\n",
              "    </tr>\n",
              "    <tr>\n",
              "      <th>NuSVR</th>\n",
              "      <td>0.94</td>\n",
              "      <td>0.94</td>\n",
              "      <td>4.23</td>\n",
              "      <td>2.76</td>\n",
              "    </tr>\n",
              "    <tr>\n",
              "      <th>PoissonRegressor</th>\n",
              "      <td>0.93</td>\n",
              "      <td>0.93</td>\n",
              "      <td>4.54</td>\n",
              "      <td>0.03</td>\n",
              "    </tr>\n",
              "    <tr>\n",
              "      <th>HuberRegressor</th>\n",
              "      <td>0.93</td>\n",
              "      <td>0.93</td>\n",
              "      <td>4.59</td>\n",
              "      <td>0.09</td>\n",
              "    </tr>\n",
              "    <tr>\n",
              "      <th>LassoCV</th>\n",
              "      <td>0.93</td>\n",
              "      <td>0.93</td>\n",
              "      <td>4.59</td>\n",
              "      <td>0.14</td>\n",
              "    </tr>\n",
              "    <tr>\n",
              "      <th>Ridge</th>\n",
              "      <td>0.93</td>\n",
              "      <td>0.93</td>\n",
              "      <td>4.59</td>\n",
              "      <td>0.01</td>\n",
              "    </tr>\n",
              "    <tr>\n",
              "      <th>BayesianRidge</th>\n",
              "      <td>0.93</td>\n",
              "      <td>0.93</td>\n",
              "      <td>4.59</td>\n",
              "      <td>0.02</td>\n",
              "    </tr>\n",
              "    <tr>\n",
              "      <th>RidgeCV</th>\n",
              "      <td>0.93</td>\n",
              "      <td>0.93</td>\n",
              "      <td>4.59</td>\n",
              "      <td>0.02</td>\n",
              "    </tr>\n",
              "    <tr>\n",
              "      <th>LassoLarsCV</th>\n",
              "      <td>0.93</td>\n",
              "      <td>0.93</td>\n",
              "      <td>4.59</td>\n",
              "      <td>0.04</td>\n",
              "    </tr>\n",
              "    <tr>\n",
              "      <th>LinearRegression</th>\n",
              "      <td>0.93</td>\n",
              "      <td>0.93</td>\n",
              "      <td>4.59</td>\n",
              "      <td>0.03</td>\n",
              "    </tr>\n",
              "    <tr>\n",
              "      <th>LassoLarsIC</th>\n",
              "      <td>0.93</td>\n",
              "      <td>0.93</td>\n",
              "      <td>4.59</td>\n",
              "      <td>0.02</td>\n",
              "    </tr>\n",
              "    <tr>\n",
              "      <th>OrthogonalMatchingPursuitCV</th>\n",
              "      <td>0.93</td>\n",
              "      <td>0.93</td>\n",
              "      <td>4.59</td>\n",
              "      <td>0.04</td>\n",
              "    </tr>\n",
              "    <tr>\n",
              "      <th>TransformedTargetRegressor</th>\n",
              "      <td>0.93</td>\n",
              "      <td>0.93</td>\n",
              "      <td>4.59</td>\n",
              "      <td>0.02</td>\n",
              "    </tr>\n",
              "    <tr>\n",
              "      <th>LarsCV</th>\n",
              "      <td>0.93</td>\n",
              "      <td>0.93</td>\n",
              "      <td>4.59</td>\n",
              "      <td>0.04</td>\n",
              "    </tr>\n",
              "    <tr>\n",
              "      <th>Lars</th>\n",
              "      <td>0.93</td>\n",
              "      <td>0.93</td>\n",
              "      <td>4.59</td>\n",
              "      <td>0.02</td>\n",
              "    </tr>\n",
              "    <tr>\n",
              "      <th>SGDRegressor</th>\n",
              "      <td>0.93</td>\n",
              "      <td>0.93</td>\n",
              "      <td>4.60</td>\n",
              "      <td>0.03</td>\n",
              "    </tr>\n",
              "    <tr>\n",
              "      <th>RANSACRegressor</th>\n",
              "      <td>0.93</td>\n",
              "      <td>0.93</td>\n",
              "      <td>4.61</td>\n",
              "      <td>0.03</td>\n",
              "    </tr>\n",
              "    <tr>\n",
              "      <th>ElasticNetCV</th>\n",
              "      <td>0.93</td>\n",
              "      <td>0.93</td>\n",
              "      <td>4.61</td>\n",
              "      <td>0.14</td>\n",
              "    </tr>\n",
              "    <tr>\n",
              "      <th>LinearSVR</th>\n",
              "      <td>0.93</td>\n",
              "      <td>0.93</td>\n",
              "      <td>4.62</td>\n",
              "      <td>0.03</td>\n",
              "    </tr>\n",
              "    <tr>\n",
              "      <th>Lasso</th>\n",
              "      <td>0.91</td>\n",
              "      <td>0.91</td>\n",
              "      <td>5.01</td>\n",
              "      <td>0.03</td>\n",
              "    </tr>\n",
              "    <tr>\n",
              "      <th>AdaBoostRegressor</th>\n",
              "      <td>0.91</td>\n",
              "      <td>0.91</td>\n",
              "      <td>5.19</td>\n",
              "      <td>0.38</td>\n",
              "    </tr>\n",
              "    <tr>\n",
              "      <th>OrthogonalMatchingPursuit</th>\n",
              "      <td>0.90</td>\n",
              "      <td>0.90</td>\n",
              "      <td>5.40</td>\n",
              "      <td>0.02</td>\n",
              "    </tr>\n",
              "    <tr>\n",
              "      <th>MLPRegressor</th>\n",
              "      <td>0.89</td>\n",
              "      <td>0.89</td>\n",
              "      <td>5.67</td>\n",
              "      <td>6.90</td>\n",
              "    </tr>\n",
              "    <tr>\n",
              "      <th>PassiveAggressiveRegressor</th>\n",
              "      <td>0.87</td>\n",
              "      <td>0.87</td>\n",
              "      <td>6.26</td>\n",
              "      <td>0.02</td>\n",
              "    </tr>\n",
              "    <tr>\n",
              "      <th>ElasticNet</th>\n",
              "      <td>0.86</td>\n",
              "      <td>0.86</td>\n",
              "      <td>6.48</td>\n",
              "      <td>0.02</td>\n",
              "    </tr>\n",
              "    <tr>\n",
              "      <th>GammaRegressor</th>\n",
              "      <td>0.80</td>\n",
              "      <td>0.80</td>\n",
              "      <td>7.62</td>\n",
              "      <td>0.02</td>\n",
              "    </tr>\n",
              "    <tr>\n",
              "      <th>GeneralizedLinearRegressor</th>\n",
              "      <td>0.80</td>\n",
              "      <td>0.80</td>\n",
              "      <td>7.62</td>\n",
              "      <td>0.02</td>\n",
              "    </tr>\n",
              "    <tr>\n",
              "      <th>TweedieRegressor</th>\n",
              "      <td>0.80</td>\n",
              "      <td>0.80</td>\n",
              "      <td>7.62</td>\n",
              "      <td>0.02</td>\n",
              "    </tr>\n",
              "    <tr>\n",
              "      <th>DummyRegressor</th>\n",
              "      <td>-0.00</td>\n",
              "      <td>-0.00</td>\n",
              "      <td>17.17</td>\n",
              "      <td>0.02</td>\n",
              "    </tr>\n",
              "    <tr>\n",
              "      <th>LassoLars</th>\n",
              "      <td>-0.00</td>\n",
              "      <td>-0.00</td>\n",
              "      <td>17.17</td>\n",
              "      <td>0.03</td>\n",
              "    </tr>\n",
              "    <tr>\n",
              "      <th>GaussianProcessRegressor</th>\n",
              "      <td>-328.68</td>\n",
              "      <td>-328.22</td>\n",
              "      <td>311.31</td>\n",
              "      <td>8.64</td>\n",
              "    </tr>\n",
              "    <tr>\n",
              "      <th>KernelRidge</th>\n",
              "      <td>-738.60</td>\n",
              "      <td>-737.56</td>\n",
              "      <td>466.28</td>\n",
              "      <td>4.59</td>\n",
              "    </tr>\n",
              "  </tbody>\n",
              "</table>\n",
              "</div>"
            ],
            "text/plain": [
              "                               Adjusted R-Squared  R-Squared   RMSE  Time Taken\n",
              "Model                                                                          \n",
              "ExtraTreesRegressor                          0.97       0.97   2.78        1.11\n",
              "RandomForestRegressor                        0.97       0.97   2.92        2.30\n",
              "XGBRegressor                                 0.97       0.97   2.97        0.46\n",
              "BaggingRegressor                             0.97       0.97   3.13        0.24\n",
              "LGBMRegressor                                0.96       0.96   3.32        0.14\n",
              "HistGradientBoostingRegressor                0.96       0.96   3.33        0.45\n",
              "DecisionTreeRegressor                        0.96       0.96   3.60        0.07\n",
              "KNeighborsRegressor                          0.95       0.95   3.74        0.08\n",
              "ExtraTreeRegressor                           0.95       0.95   3.84        0.03\n",
              "GradientBoostingRegressor                    0.95       0.95   3.85        0.83\n",
              "SVR                                          0.94       0.94   4.23        3.34\n",
              "NuSVR                                        0.94       0.94   4.23        2.76\n",
              "PoissonRegressor                             0.93       0.93   4.54        0.03\n",
              "HuberRegressor                               0.93       0.93   4.59        0.09\n",
              "LassoCV                                      0.93       0.93   4.59        0.14\n",
              "Ridge                                        0.93       0.93   4.59        0.01\n",
              "BayesianRidge                                0.93       0.93   4.59        0.02\n",
              "RidgeCV                                      0.93       0.93   4.59        0.02\n",
              "LassoLarsCV                                  0.93       0.93   4.59        0.04\n",
              "LinearRegression                             0.93       0.93   4.59        0.03\n",
              "LassoLarsIC                                  0.93       0.93   4.59        0.02\n",
              "OrthogonalMatchingPursuitCV                  0.93       0.93   4.59        0.04\n",
              "TransformedTargetRegressor                   0.93       0.93   4.59        0.02\n",
              "LarsCV                                       0.93       0.93   4.59        0.04\n",
              "Lars                                         0.93       0.93   4.59        0.02\n",
              "SGDRegressor                                 0.93       0.93   4.60        0.03\n",
              "RANSACRegressor                              0.93       0.93   4.61        0.03\n",
              "ElasticNetCV                                 0.93       0.93   4.61        0.14\n",
              "LinearSVR                                    0.93       0.93   4.62        0.03\n",
              "Lasso                                        0.91       0.91   5.01        0.03\n",
              "AdaBoostRegressor                            0.91       0.91   5.19        0.38\n",
              "OrthogonalMatchingPursuit                    0.90       0.90   5.40        0.02\n",
              "MLPRegressor                                 0.89       0.89   5.67        6.90\n",
              "PassiveAggressiveRegressor                   0.87       0.87   6.26        0.02\n",
              "ElasticNet                                   0.86       0.86   6.48        0.02\n",
              "GammaRegressor                               0.80       0.80   7.62        0.02\n",
              "GeneralizedLinearRegressor                   0.80       0.80   7.62        0.02\n",
              "TweedieRegressor                             0.80       0.80   7.62        0.02\n",
              "DummyRegressor                              -0.00      -0.00  17.17        0.02\n",
              "LassoLars                                   -0.00      -0.00  17.17        0.03\n",
              "GaussianProcessRegressor                  -328.68    -328.22 311.31        8.64\n",
              "KernelRidge                               -738.60    -737.56 466.28        4.59"
            ]
          },
          "metadata": {
            "tags": []
          },
          "execution_count": 14
        }
      ]
    },
    {
      "cell_type": "code",
      "metadata": {
        "colab": {
          "base_uri": "https://localhost:8080/"
        },
        "id": "EFP66gFmgOKe",
        "outputId": "5e4748a6-b492-48e3-98f4-1bdd86434973"
      },
      "source": [
        "xg=XGBRegressor()\n",
        "xg.fit(x_train,Y_train)"
      ],
      "execution_count": 15,
      "outputs": [
        {
          "output_type": "execute_result",
          "data": {
            "text/plain": [
              "XGBRegressor(base_score=0.5, booster='gbtree', colsample_bylevel=1,\n",
              "             colsample_bynode=1, colsample_bytree=1, gamma=0, gpu_id=-1,\n",
              "             importance_type='gain', interaction_constraints='',\n",
              "             learning_rate=0.300000012, max_delta_step=0, max_depth=6,\n",
              "             min_child_weight=1, missing=nan, monotone_constraints='()',\n",
              "             n_estimators=100, n_jobs=0, num_parallel_tree=1, random_state=0,\n",
              "             reg_alpha=0, reg_lambda=1, scale_pos_weight=1, subsample=1,\n",
              "             tree_method='exact', validate_parameters=1, verbosity=None)"
            ]
          },
          "metadata": {
            "tags": []
          },
          "execution_count": 15
        }
      ]
    },
    {
      "cell_type": "code",
      "metadata": {
        "colab": {
          "base_uri": "https://localhost:8080/"
        },
        "id": "glU5Bf_mge09",
        "outputId": "6131fdad-826d-446f-8a00-39f52d77df83"
      },
      "source": [
        "xg.score(x_test,Y_test)"
      ],
      "execution_count": 16,
      "outputs": [
        {
          "output_type": "execute_result",
          "data": {
            "text/plain": [
              "0.9700306630687905"
            ]
          },
          "metadata": {
            "tags": []
          },
          "execution_count": 16
        }
      ]
    },
    {
      "cell_type": "code",
      "metadata": {
        "id": "-VVBWMXmgifx"
      },
      "source": [
        "y_pred=xg.predict(x_test)"
      ],
      "execution_count": 17,
      "outputs": []
    },
    {
      "cell_type": "code",
      "metadata": {
        "id": "28ib28jggvoz"
      },
      "source": [
        "preds=pd.DataFrame(Y_test)"
      ],
      "execution_count": 18,
      "outputs": []
    },
    {
      "cell_type": "code",
      "metadata": {
        "id": "kFXa3lE0g0kZ"
      },
      "source": [
        "preds['predicted_by_model']=y_pred"
      ],
      "execution_count": 19,
      "outputs": []
    },
    {
      "cell_type": "code",
      "metadata": {
        "colab": {
          "base_uri": "https://localhost:8080/",
          "height": 406
        },
        "id": "YAyx-sC1g43f",
        "outputId": "b768fe8b-21e8-4466-d55e-125600eb3a00"
      },
      "source": [
        "preds"
      ],
      "execution_count": 20,
      "outputs": [
        {
          "output_type": "execute_result",
          "data": {
            "text/html": [
              "<div>\n",
              "<style scoped>\n",
              "    .dataframe tbody tr th:only-of-type {\n",
              "        vertical-align: middle;\n",
              "    }\n",
              "\n",
              "    .dataframe tbody tr th {\n",
              "        vertical-align: top;\n",
              "    }\n",
              "\n",
              "    .dataframe thead th {\n",
              "        text-align: right;\n",
              "    }\n",
              "</style>\n",
              "<table border=\"1\" class=\"dataframe\">\n",
              "  <thead>\n",
              "    <tr style=\"text-align: right;\">\n",
              "      <th></th>\n",
              "      <th>PE</th>\n",
              "      <th>predicted_by_model</th>\n",
              "    </tr>\n",
              "  </thead>\n",
              "  <tbody>\n",
              "    <tr>\n",
              "      <th>4487</th>\n",
              "      <td>480.05</td>\n",
              "      <td>482.96</td>\n",
              "    </tr>\n",
              "    <tr>\n",
              "      <th>2036</th>\n",
              "      <td>489.71</td>\n",
              "      <td>488.52</td>\n",
              "    </tr>\n",
              "    <tr>\n",
              "      <th>7469</th>\n",
              "      <td>451.56</td>\n",
              "      <td>453.25</td>\n",
              "    </tr>\n",
              "    <tr>\n",
              "      <th>9106</th>\n",
              "      <td>460.04</td>\n",
              "      <td>471.29</td>\n",
              "    </tr>\n",
              "    <tr>\n",
              "      <th>8606</th>\n",
              "      <td>495.53</td>\n",
              "      <td>492.69</td>\n",
              "    </tr>\n",
              "    <tr>\n",
              "      <th>...</th>\n",
              "      <td>...</td>\n",
              "      <td>...</td>\n",
              "    </tr>\n",
              "    <tr>\n",
              "      <th>7350</th>\n",
              "      <td>487.88</td>\n",
              "      <td>486.43</td>\n",
              "    </tr>\n",
              "    <tr>\n",
              "      <th>3447</th>\n",
              "      <td>463.15</td>\n",
              "      <td>457.22</td>\n",
              "    </tr>\n",
              "    <tr>\n",
              "      <th>7500</th>\n",
              "      <td>457.90</td>\n",
              "      <td>457.89</td>\n",
              "    </tr>\n",
              "    <tr>\n",
              "      <th>4341</th>\n",
              "      <td>468.43</td>\n",
              "      <td>467.28</td>\n",
              "    </tr>\n",
              "    <tr>\n",
              "      <th>3319</th>\n",
              "      <td>453.34</td>\n",
              "      <td>453.27</td>\n",
              "    </tr>\n",
              "  </tbody>\n",
              "</table>\n",
              "<p>2859 rows × 2 columns</p>\n",
              "</div>"
            ],
            "text/plain": [
              "         PE  predicted_by_model\n",
              "4487 480.05              482.96\n",
              "2036 489.71              488.52\n",
              "7469 451.56              453.25\n",
              "9106 460.04              471.29\n",
              "8606 495.53              492.69\n",
              "...     ...                 ...\n",
              "7350 487.88              486.43\n",
              "3447 463.15              457.22\n",
              "7500 457.90              457.89\n",
              "4341 468.43              467.28\n",
              "3319 453.34              453.27\n",
              "\n",
              "[2859 rows x 2 columns]"
            ]
          },
          "metadata": {
            "tags": []
          },
          "execution_count": 20
        }
      ]
    },
    {
      "cell_type": "markdown",
      "metadata": {
        "id": "rtcpQSHtkTcE"
      },
      "source": [
        "#Test Data Prediction Of Power Plant"
      ]
    },
    {
      "cell_type": "code",
      "metadata": {
        "id": "qnjxBNP_g540"
      },
      "source": [
        "test=pd.read_csv('/content/Test.csv')"
      ],
      "execution_count": 21,
      "outputs": []
    },
    {
      "cell_type": "code",
      "metadata": {
        "colab": {
          "base_uri": "https://localhost:8080/",
          "height": 406
        },
        "id": "69wTh93_jbTW",
        "outputId": "38ab6d3d-8cb4-4c42-ef81-463d514ecc27"
      },
      "source": [
        "test"
      ],
      "execution_count": 22,
      "outputs": [
        {
          "output_type": "execute_result",
          "data": {
            "text/html": [
              "<div>\n",
              "<style scoped>\n",
              "    .dataframe tbody tr th:only-of-type {\n",
              "        vertical-align: middle;\n",
              "    }\n",
              "\n",
              "    .dataframe tbody tr th {\n",
              "        vertical-align: top;\n",
              "    }\n",
              "\n",
              "    .dataframe thead th {\n",
              "        text-align: right;\n",
              "    }\n",
              "</style>\n",
              "<table border=\"1\" class=\"dataframe\">\n",
              "  <thead>\n",
              "    <tr style=\"text-align: right;\">\n",
              "      <th></th>\n",
              "      <th>AT</th>\n",
              "      <th>V</th>\n",
              "      <th>AP</th>\n",
              "      <th>RH</th>\n",
              "    </tr>\n",
              "  </thead>\n",
              "  <tbody>\n",
              "    <tr>\n",
              "      <th>0</th>\n",
              "      <td>16.98</td>\n",
              "      <td>53.16</td>\n",
              "      <td>1013.95</td>\n",
              "      <td>82.80</td>\n",
              "    </tr>\n",
              "    <tr>\n",
              "      <th>1</th>\n",
              "      <td>9.60</td>\n",
              "      <td>41.03</td>\n",
              "      <td>1021.01</td>\n",
              "      <td>69.03</td>\n",
              "    </tr>\n",
              "    <tr>\n",
              "      <th>2</th>\n",
              "      <td>6.11</td>\n",
              "      <td>38.68</td>\n",
              "      <td>1017.53</td>\n",
              "      <td>79.23</td>\n",
              "    </tr>\n",
              "    <tr>\n",
              "      <th>3</th>\n",
              "      <td>12.34</td>\n",
              "      <td>43.22</td>\n",
              "      <td>1009.28</td>\n",
              "      <td>78.23</td>\n",
              "    </tr>\n",
              "    <tr>\n",
              "      <th>4</th>\n",
              "      <td>27.67</td>\n",
              "      <td>59.14</td>\n",
              "      <td>1016.51</td>\n",
              "      <td>61.20</td>\n",
              "    </tr>\n",
              "    <tr>\n",
              "      <th>...</th>\n",
              "      <td>...</td>\n",
              "      <td>...</td>\n",
              "      <td>...</td>\n",
              "      <td>...</td>\n",
              "    </tr>\n",
              "    <tr>\n",
              "      <th>38267</th>\n",
              "      <td>14.60</td>\n",
              "      <td>53.82</td>\n",
              "      <td>1016.28</td>\n",
              "      <td>64.83</td>\n",
              "    </tr>\n",
              "    <tr>\n",
              "      <th>38268</th>\n",
              "      <td>29.67</td>\n",
              "      <td>66.51</td>\n",
              "      <td>1015.60</td>\n",
              "      <td>34.10</td>\n",
              "    </tr>\n",
              "    <tr>\n",
              "      <th>38269</th>\n",
              "      <td>20.13</td>\n",
              "      <td>47.03</td>\n",
              "      <td>1012.59</td>\n",
              "      <td>83.03</td>\n",
              "    </tr>\n",
              "    <tr>\n",
              "      <th>38270</th>\n",
              "      <td>27.14</td>\n",
              "      <td>70.32</td>\n",
              "      <td>1007.08</td>\n",
              "      <td>73.08</td>\n",
              "    </tr>\n",
              "    <tr>\n",
              "      <th>38271</th>\n",
              "      <td>18.82</td>\n",
              "      <td>61.27</td>\n",
              "      <td>1019.50</td>\n",
              "      <td>72.23</td>\n",
              "    </tr>\n",
              "  </tbody>\n",
              "</table>\n",
              "<p>38272 rows × 4 columns</p>\n",
              "</div>"
            ],
            "text/plain": [
              "         AT     V      AP    RH\n",
              "0     16.98 53.16 1013.95 82.80\n",
              "1      9.60 41.03 1021.01 69.03\n",
              "2      6.11 38.68 1017.53 79.23\n",
              "3     12.34 43.22 1009.28 78.23\n",
              "4     27.67 59.14 1016.51 61.20\n",
              "...     ...   ...     ...   ...\n",
              "38267 14.60 53.82 1016.28 64.83\n",
              "38268 29.67 66.51 1015.60 34.10\n",
              "38269 20.13 47.03 1012.59 83.03\n",
              "38270 27.14 70.32 1007.08 73.08\n",
              "38271 18.82 61.27 1019.50 72.23\n",
              "\n",
              "[38272 rows x 4 columns]"
            ]
          },
          "metadata": {
            "tags": []
          },
          "execution_count": 22
        }
      ]
    },
    {
      "cell_type": "code",
      "metadata": {
        "id": "rjXFXKZthGjk"
      },
      "source": [
        "test['PE_by_moel']=xg.predict(test)"
      ],
      "execution_count": 23,
      "outputs": []
    },
    {
      "cell_type": "code",
      "metadata": {
        "colab": {
          "base_uri": "https://localhost:8080/",
          "height": 406
        },
        "id": "Uo7QOO7ojjcA",
        "outputId": "8b80821a-7fa7-440b-801e-48f63cde0155"
      },
      "source": [
        "test"
      ],
      "execution_count": 24,
      "outputs": [
        {
          "output_type": "execute_result",
          "data": {
            "text/html": [
              "<div>\n",
              "<style scoped>\n",
              "    .dataframe tbody tr th:only-of-type {\n",
              "        vertical-align: middle;\n",
              "    }\n",
              "\n",
              "    .dataframe tbody tr th {\n",
              "        vertical-align: top;\n",
              "    }\n",
              "\n",
              "    .dataframe thead th {\n",
              "        text-align: right;\n",
              "    }\n",
              "</style>\n",
              "<table border=\"1\" class=\"dataframe\">\n",
              "  <thead>\n",
              "    <tr style=\"text-align: right;\">\n",
              "      <th></th>\n",
              "      <th>AT</th>\n",
              "      <th>V</th>\n",
              "      <th>AP</th>\n",
              "      <th>RH</th>\n",
              "      <th>PE_by_moel</th>\n",
              "    </tr>\n",
              "  </thead>\n",
              "  <tbody>\n",
              "    <tr>\n",
              "      <th>0</th>\n",
              "      <td>16.98</td>\n",
              "      <td>53.16</td>\n",
              "      <td>1013.95</td>\n",
              "      <td>82.80</td>\n",
              "      <td>471.08</td>\n",
              "    </tr>\n",
              "    <tr>\n",
              "      <th>1</th>\n",
              "      <td>9.60</td>\n",
              "      <td>41.03</td>\n",
              "      <td>1021.01</td>\n",
              "      <td>69.03</td>\n",
              "      <td>494.45</td>\n",
              "    </tr>\n",
              "    <tr>\n",
              "      <th>2</th>\n",
              "      <td>6.11</td>\n",
              "      <td>38.68</td>\n",
              "      <td>1017.53</td>\n",
              "      <td>79.23</td>\n",
              "      <td>497.43</td>\n",
              "    </tr>\n",
              "    <tr>\n",
              "      <th>3</th>\n",
              "      <td>12.34</td>\n",
              "      <td>43.22</td>\n",
              "      <td>1009.28</td>\n",
              "      <td>78.23</td>\n",
              "      <td>479.62</td>\n",
              "    </tr>\n",
              "    <tr>\n",
              "      <th>4</th>\n",
              "      <td>27.67</td>\n",
              "      <td>59.14</td>\n",
              "      <td>1016.51</td>\n",
              "      <td>61.20</td>\n",
              "      <td>445.86</td>\n",
              "    </tr>\n",
              "    <tr>\n",
              "      <th>...</th>\n",
              "      <td>...</td>\n",
              "      <td>...</td>\n",
              "      <td>...</td>\n",
              "      <td>...</td>\n",
              "      <td>...</td>\n",
              "    </tr>\n",
              "    <tr>\n",
              "      <th>38267</th>\n",
              "      <td>14.60</td>\n",
              "      <td>53.82</td>\n",
              "      <td>1016.28</td>\n",
              "      <td>64.83</td>\n",
              "      <td>476.60</td>\n",
              "    </tr>\n",
              "    <tr>\n",
              "      <th>38268</th>\n",
              "      <td>29.67</td>\n",
              "      <td>66.51</td>\n",
              "      <td>1015.60</td>\n",
              "      <td>34.10</td>\n",
              "      <td>447.87</td>\n",
              "    </tr>\n",
              "    <tr>\n",
              "      <th>38269</th>\n",
              "      <td>20.13</td>\n",
              "      <td>47.03</td>\n",
              "      <td>1012.59</td>\n",
              "      <td>83.03</td>\n",
              "      <td>467.56</td>\n",
              "    </tr>\n",
              "    <tr>\n",
              "      <th>38270</th>\n",
              "      <td>27.14</td>\n",
              "      <td>70.32</td>\n",
              "      <td>1007.08</td>\n",
              "      <td>73.08</td>\n",
              "      <td>444.53</td>\n",
              "    </tr>\n",
              "    <tr>\n",
              "      <th>38271</th>\n",
              "      <td>18.82</td>\n",
              "      <td>61.27</td>\n",
              "      <td>1019.50</td>\n",
              "      <td>72.23</td>\n",
              "      <td>463.93</td>\n",
              "    </tr>\n",
              "  </tbody>\n",
              "</table>\n",
              "<p>38272 rows × 5 columns</p>\n",
              "</div>"
            ],
            "text/plain": [
              "         AT     V      AP    RH  PE_by_moel\n",
              "0     16.98 53.16 1013.95 82.80      471.08\n",
              "1      9.60 41.03 1021.01 69.03      494.45\n",
              "2      6.11 38.68 1017.53 79.23      497.43\n",
              "3     12.34 43.22 1009.28 78.23      479.62\n",
              "4     27.67 59.14 1016.51 61.20      445.86\n",
              "...     ...   ...     ...   ...         ...\n",
              "38267 14.60 53.82 1016.28 64.83      476.60\n",
              "38268 29.67 66.51 1015.60 34.10      447.87\n",
              "38269 20.13 47.03 1012.59 83.03      467.56\n",
              "38270 27.14 70.32 1007.08 73.08      444.53\n",
              "38271 18.82 61.27 1019.50 72.23      463.93\n",
              "\n",
              "[38272 rows x 5 columns]"
            ]
          },
          "metadata": {
            "tags": []
          },
          "execution_count": 24
        }
      ]
    },
    {
      "cell_type": "code",
      "metadata": {
        "id": "dPlofLZ2hS1z"
      },
      "source": [
        "test_prediction=pd.DataFrame(test)"
      ],
      "execution_count": 25,
      "outputs": []
    },
    {
      "cell_type": "code",
      "metadata": {
        "colab": {
          "base_uri": "https://localhost:8080/",
          "height": 406
        },
        "id": "EKF3_lZphck3",
        "outputId": "3106dfbb-358e-40a1-92e6-a28918a449cb"
      },
      "source": [
        "test_prediction"
      ],
      "execution_count": 26,
      "outputs": [
        {
          "output_type": "execute_result",
          "data": {
            "text/html": [
              "<div>\n",
              "<style scoped>\n",
              "    .dataframe tbody tr th:only-of-type {\n",
              "        vertical-align: middle;\n",
              "    }\n",
              "\n",
              "    .dataframe tbody tr th {\n",
              "        vertical-align: top;\n",
              "    }\n",
              "\n",
              "    .dataframe thead th {\n",
              "        text-align: right;\n",
              "    }\n",
              "</style>\n",
              "<table border=\"1\" class=\"dataframe\">\n",
              "  <thead>\n",
              "    <tr style=\"text-align: right;\">\n",
              "      <th></th>\n",
              "      <th>AT</th>\n",
              "      <th>V</th>\n",
              "      <th>AP</th>\n",
              "      <th>RH</th>\n",
              "      <th>PE_by_moel</th>\n",
              "    </tr>\n",
              "  </thead>\n",
              "  <tbody>\n",
              "    <tr>\n",
              "      <th>0</th>\n",
              "      <td>16.98</td>\n",
              "      <td>53.16</td>\n",
              "      <td>1013.95</td>\n",
              "      <td>82.80</td>\n",
              "      <td>471.08</td>\n",
              "    </tr>\n",
              "    <tr>\n",
              "      <th>1</th>\n",
              "      <td>9.60</td>\n",
              "      <td>41.03</td>\n",
              "      <td>1021.01</td>\n",
              "      <td>69.03</td>\n",
              "      <td>494.45</td>\n",
              "    </tr>\n",
              "    <tr>\n",
              "      <th>2</th>\n",
              "      <td>6.11</td>\n",
              "      <td>38.68</td>\n",
              "      <td>1017.53</td>\n",
              "      <td>79.23</td>\n",
              "      <td>497.43</td>\n",
              "    </tr>\n",
              "    <tr>\n",
              "      <th>3</th>\n",
              "      <td>12.34</td>\n",
              "      <td>43.22</td>\n",
              "      <td>1009.28</td>\n",
              "      <td>78.23</td>\n",
              "      <td>479.62</td>\n",
              "    </tr>\n",
              "    <tr>\n",
              "      <th>4</th>\n",
              "      <td>27.67</td>\n",
              "      <td>59.14</td>\n",
              "      <td>1016.51</td>\n",
              "      <td>61.20</td>\n",
              "      <td>445.86</td>\n",
              "    </tr>\n",
              "    <tr>\n",
              "      <th>...</th>\n",
              "      <td>...</td>\n",
              "      <td>...</td>\n",
              "      <td>...</td>\n",
              "      <td>...</td>\n",
              "      <td>...</td>\n",
              "    </tr>\n",
              "    <tr>\n",
              "      <th>38267</th>\n",
              "      <td>14.60</td>\n",
              "      <td>53.82</td>\n",
              "      <td>1016.28</td>\n",
              "      <td>64.83</td>\n",
              "      <td>476.60</td>\n",
              "    </tr>\n",
              "    <tr>\n",
              "      <th>38268</th>\n",
              "      <td>29.67</td>\n",
              "      <td>66.51</td>\n",
              "      <td>1015.60</td>\n",
              "      <td>34.10</td>\n",
              "      <td>447.87</td>\n",
              "    </tr>\n",
              "    <tr>\n",
              "      <th>38269</th>\n",
              "      <td>20.13</td>\n",
              "      <td>47.03</td>\n",
              "      <td>1012.59</td>\n",
              "      <td>83.03</td>\n",
              "      <td>467.56</td>\n",
              "    </tr>\n",
              "    <tr>\n",
              "      <th>38270</th>\n",
              "      <td>27.14</td>\n",
              "      <td>70.32</td>\n",
              "      <td>1007.08</td>\n",
              "      <td>73.08</td>\n",
              "      <td>444.53</td>\n",
              "    </tr>\n",
              "    <tr>\n",
              "      <th>38271</th>\n",
              "      <td>18.82</td>\n",
              "      <td>61.27</td>\n",
              "      <td>1019.50</td>\n",
              "      <td>72.23</td>\n",
              "      <td>463.93</td>\n",
              "    </tr>\n",
              "  </tbody>\n",
              "</table>\n",
              "<p>38272 rows × 5 columns</p>\n",
              "</div>"
            ],
            "text/plain": [
              "         AT     V      AP    RH  PE_by_moel\n",
              "0     16.98 53.16 1013.95 82.80      471.08\n",
              "1      9.60 41.03 1021.01 69.03      494.45\n",
              "2      6.11 38.68 1017.53 79.23      497.43\n",
              "3     12.34 43.22 1009.28 78.23      479.62\n",
              "4     27.67 59.14 1016.51 61.20      445.86\n",
              "...     ...   ...     ...   ...         ...\n",
              "38267 14.60 53.82 1016.28 64.83      476.60\n",
              "38268 29.67 66.51 1015.60 34.10      447.87\n",
              "38269 20.13 47.03 1012.59 83.03      467.56\n",
              "38270 27.14 70.32 1007.08 73.08      444.53\n",
              "38271 18.82 61.27 1019.50 72.23      463.93\n",
              "\n",
              "[38272 rows x 5 columns]"
            ]
          },
          "metadata": {
            "tags": []
          },
          "execution_count": 26
        }
      ]
    },
    {
      "cell_type": "code",
      "metadata": {
        "id": "eBIlp_d-iiMa"
      },
      "source": [
        "test_prediction.to_csv('/content/drive/MyDrive/Hackathon/submission_PE.csv', index=False, header=True)"
      ],
      "execution_count": 27,
      "outputs": []
    },
    {
      "cell_type": "markdown",
      "metadata": {
        "id": "6BexAJL2kssy"
      },
      "source": [
        "The DIFFICULTY Was Intermediate For this But It was Easy"
      ]
    }
  ]
}